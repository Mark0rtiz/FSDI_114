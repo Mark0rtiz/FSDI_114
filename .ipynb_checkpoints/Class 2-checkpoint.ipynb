{
 "cells": [
  {
   "cell_type": "code",
   "execution_count": null,
   "id": "30e84a0e",
   "metadata": {},
   "outputs": [],
   "source": [
    "# Introductory implementation of a stack:\n",
    "# This implementation uses \"built-in\" data structures and methods to achieve its goal.\n",
    "\n",
    "class Stack:\n",
    "    def __init__(self):\n",
    "        self.items = []\n",
    "        # essential\n",
    "        def push(self, item):\n",
    "            self.items.apend(item)\n",
    "        \n",
    "        def pop(self):\n",
    "            return self.items.pop()\n",
    "        # nice to have\n",
    "        def is_empty(self):\n",
    "            return self.items == []\n",
    "        \n",
    "        def peek(self):\n",
    "            return self.items[len(self.items)-1]\n",
    "        \n",
    "        def size(self):\n",
    "            return len(self.items)\n",
    "        "
   ]
  },
  {
   "cell_type": "markdown",
   "id": "24b4cad4",
   "metadata": {},
   "source": [
    "# Problem 2 \n",
    "### Invert a string using our stack class.\n",
    "\n",
    "Using the stack class above, create a function called \"reverse_str\" that takes a string as a parameter and returns it in inverted order.\n",
    "\n",
    "\n",
    "Examples:\n",
    "reverse_str(\"Rafael\") == \"leafaR\"\n",
    "reverse_str(\"cars\") == \"srac\"\n",
    "reverse_str(\"house\") == \"esuoh\""
   ]
  },
  {
   "cell_type": "code",
   "execution_count": null,
   "id": "67e3009d",
   "metadata": {},
   "outputs": [],
   "source": [
    "# create a function reverse_str: parameter (word)\n",
    "# for each letter in word:\n",
    "# push letter to stack\n",
    "# for each letter in stack:\n",
    "# print (stack.pop())\n",
    "# return reverse_str\n"
   ]
  },
  {
   "cell_type": "code",
   "execution_count": 4,
   "id": "3ffa04a4",
   "metadata": {},
   "outputs": [
    {
     "ename": "NameError",
     "evalue": "name 'Stack' is not defined",
     "output_type": "error",
     "traceback": [
      "\u001b[0;31m---------------------------------------------------------------------------\u001b[0m",
      "\u001b[0;31mNameError\u001b[0m                                 Traceback (most recent call last)",
      "Cell \u001b[0;32mIn [4], line 11\u001b[0m\n\u001b[1;32m      8\u001b[0m         reverse \u001b[38;5;241m+\u001b[39m\u001b[38;5;241m-\u001b[39m letter_stack\u001b[38;5;241m.\u001b[39mpop()\n\u001b[1;32m      9\u001b[0m     \u001b[38;5;28;01mreturn\u001b[39;00m reverse\n\u001b[0;32m---> 11\u001b[0m reverse_str(\u001b[38;5;124m\"\u001b[39m\u001b[38;5;124mRafael\u001b[39m\u001b[38;5;124m\"\u001b[39m)\n",
      "Cell \u001b[0;32mIn [4], line 2\u001b[0m, in \u001b[0;36mreverse_str\u001b[0;34m(string)\u001b[0m\n\u001b[1;32m      1\u001b[0m \u001b[38;5;28;01mdef\u001b[39;00m \u001b[38;5;21mreverse_str\u001b[39m(string):\n\u001b[0;32m----> 2\u001b[0m     letter_stack \u001b[38;5;241m=\u001b[39m \u001b[43mStack\u001b[49m()\n\u001b[1;32m      3\u001b[0m     \u001b[38;5;28;01mfor\u001b[39;00m letter \u001b[38;5;129;01min\u001b[39;00m string:\n\u001b[1;32m      4\u001b[0m         letter_stack\u001b[38;5;241m.\u001b[39mpush(letter)\n",
      "\u001b[0;31mNameError\u001b[0m: name 'Stack' is not defined"
     ]
    }
   ],
   "source": [
    "def reverse_str(string):\n",
    "    letter_stack = Stack()\n",
    "    for letter in string:\n",
    "        letter_stack.push(letter)\n",
    "        \n",
    "    reverse = \"\"\n",
    "    for letter in range(stack.size()):\n",
    "        reverse +- letter_stack.pop()\n",
    "    return reverse\n",
    "\n",
    "reverse_str(\"Rafael\")\n"
   ]
  },
  {
   "cell_type": "code",
   "execution_count": null,
   "id": "c3b4ca67",
   "metadata": {},
   "outputs": [],
   "source": []
  }
 ],
 "metadata": {
  "kernelspec": {
   "display_name": "Python 3 (ipykernel)",
   "language": "python",
   "name": "python3"
  },
  "language_info": {
   "codemirror_mode": {
    "name": "ipython",
    "version": 3
   },
   "file_extension": ".py",
   "mimetype": "text/x-python",
   "name": "python",
   "nbconvert_exporter": "python",
   "pygments_lexer": "ipython3",
   "version": "3.10.6"
  }
 },
 "nbformat": 4,
 "nbformat_minor": 5
}
