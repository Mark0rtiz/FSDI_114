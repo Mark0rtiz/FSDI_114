{
 "cells": [
  {
   "cell_type": "code",
   "execution_count": 1,
   "id": "e4461525",
   "metadata": {},
   "outputs": [
    {
     "name": "stdout",
     "output_type": "stream",
     "text": [
      "H\n",
      "e\n",
      "l\n",
      "l\n",
      "o\n",
      ",\n",
      " \n",
      "w\n",
      "o\n",
      "r\n",
      "l\n",
      "d\n",
      "!\n"
     ]
    }
   ],
   "source": [
    "for letter in \"Hello, world!\":\n",
    "    print (letter)"
   ]
  },
  {
   "cell_type": "markdown",
   "id": "b4541fb4",
   "metadata": {},
   "source": [
    "# Problem 1\n",
    "\n",
    "## Given two strings as input determine if they are anagrams of each other given the following criteria:\n",
    "\n",
    "Two strings are only anagrams of eachother if all the conditions below are met:\n",
    "1. They must be exactly the same length\n",
    "2. They must use exactly the same characters\n",
    "\n",
    "```\n",
    "Examples:\n",
    "cars and scar\n",
    "heart and earth\n",
    "etc\n",
    "```\n",
    "\n"
   ]
  },
  {
   "cell_type": "code",
   "execution_count": null,
   "id": "d08974b5",
   "metadata": {},
   "outputs": [],
   "source": [
    "# define function anagram_check: parameters --> (string1, string 2)\n",
    "#    if the length of string1 is not equal to the length of string 2:\n",
    "#           return False\n",
    "#    dict_for_s1 = dict()\n",
    "#    dict_for_s2 = dict()\n",
    "#    if the length of string 1 is equal to length of string2:\n",
    "#        for each index in the range from 0 to the length of string1:\n",
    "#                if the character at position index of String1 is in dict_for_s1:\n",
    "#                       dict_for_s1[index] = dict_for_s1[index]+1\n",
    "#                else:\n",
    "#                       create a new key in dict_for_s1 for the character at position \"index\"\n",
    "#                if the character at position \"index\" of string 2 is in dict_for_s2:\n",
    "#                       dict_for_s2[index] = dict_for_s2[index] + 1\n",
    "#                else:\n",
    "#                       create a new key in dict_for_s2 for the character at position \"index\"\n",
    "#        return dict_for_s1 == Dict_for_s2"
   ]
  }
 ],
 "metadata": {
  "kernelspec": {
   "display_name": "Python 3 (ipykernel)",
   "language": "python",
   "name": "python3"
  },
  "language_info": {
   "codemirror_mode": {
    "name": "ipython",
    "version": 3
   },
   "file_extension": ".py",
   "mimetype": "text/x-python",
   "name": "python",
   "nbconvert_exporter": "python",
   "pygments_lexer": "ipython3",
   "version": "3.10.6"
  }
 },
 "nbformat": 4,
 "nbformat_minor": 5
}
