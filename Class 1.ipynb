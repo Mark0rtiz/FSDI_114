{
 "cells": [
  {
   "cell_type": "code",
   "execution_count": 1,
   "id": "e4461525",
   "metadata": {},
   "outputs": [
    {
     "name": "stdout",
     "output_type": "stream",
     "text": [
      "H\n",
      "e\n",
      "l\n",
      "l\n",
      "o\n",
      ",\n",
      " \n",
      "w\n",
      "o\n",
      "r\n",
      "l\n",
      "d\n",
      "!\n"
     ]
    }
   ],
   "source": [
    "for letter in \"Hello, world!\":\n",
    "    print (letter)"
   ]
  },
  {
   "cell_type": "markdown",
   "id": "b4541fb4",
   "metadata": {},
   "source": [
    "# Problem 1\n",
    "\n",
    "## Given two strings as input determine if they are anagrams of each other given the following criteria:\n",
    "\n",
    "Two strings are only anagrams of eachother if all the conditions below are met:\n",
    "1. They must be exactly the same length\n",
    "2. They must use exactly the same characters\n",
    "\n",
    "```\n",
    "Examples:\n",
    "cars and scar\n",
    "heart and earth\n",
    "etc\n",
    "```\n",
    "\n"
   ]
  },
  {
   "cell_type": "code",
   "execution_count": null,
   "id": "d08974b5",
   "metadata": {},
   "outputs": [],
   "source": [
    "# define function anagram_check: parameters --> (string1, string 2)\n",
    "#    if the length of string1 is not equal to the length of string 2:\n",
    "#           return False\n",
    "#    dict_for_s1 = dict()\n",
    "#    dict_for_s2 = dict()\n",
    "#    if the length of string 1 is equal to length of string2:\n",
    "#        for each index in the range from 0 to the length of string1:\n",
    "#                if the character at position index of String1 is in dict_for_s1:\n",
    "#                       dict_for_s1[index] = dict_for_s1[index]+1\n",
    "#                else:\n",
    "#                       create a new key in dict_for_s1 for the character at position \"index\"\n",
    "#                if the character at position \"index\" of string 2 is in dict_for_s2:\n",
    "#                       dict_for_s2[index] = dict_for_s2[index] + 1\n",
    "#                else:\n",
    "#                       create a new key in dict_for_s2 for the character at position \"index\"\n",
    "#        return dict_for_s1 == Dict_for_s2"
   ]
  },
  {
   "cell_type": "code",
   "execution_count": 8,
   "id": "676b9d35",
   "metadata": {},
   "outputs": [],
   "source": [
    "def count_len(args):\n",
    "    for letter in args:\n",
    "        count = 0\n",
    "        if letter != \"\":\n",
    "            count += 1\n",
    "        return count\n",
    "    \n",
    "def anagram(str1, str2):\n",
    "    result = False\n",
    "    \n",
    "    str1 = str1.lower()\n",
    "    str2 = str2.lower()\n",
    "    \n",
    "    if count_len(str1) != count_len(str2):\n",
    "        return result\n",
    "    else:\n",
    "        dict_for_str1 = {}\n",
    "        dict_for_str2 = {}\n",
    "        \n",
    "        for letter in str1:\n",
    "            if letter != \"\":\n",
    "                verify = True\n",
    "                if letter in dict_for_str1:\n",
    "                    dict_for_str1[letter] += 1\n",
    "                else:\n",
    "                    dict_for_str1[letter] = 1\n",
    "        for letter in str2:\n",
    "            if letter != \"\":\n",
    "                verify = True\n",
    "                if letter in dict_for_str2:\n",
    "                    dict_str2[letter] += 1\n",
    "                else:\n",
    "                    dict_for_str2[letter] = 1\n",
    "                    \n",
    "            for each in dict_for_str1:\n",
    "                if each in dict_for_str2:\n",
    "                    result = True\n",
    "                else:\n",
    "                    result = False\n",
    "                    \n",
    "            for each in dict_for_str2:\n",
    "                if each in dict_for_str1:\n",
    "                    result = True\n",
    "                else:\n",
    "                    result = False\n",
    "            return result"
   ]
  },
  {
   "cell_type": "code",
   "execution_count": 9,
   "id": "2ca80a95",
   "metadata": {},
   "outputs": [
    {
     "data": {
      "text/plain": [
       "True"
      ]
     },
     "execution_count": 9,
     "metadata": {},
     "output_type": "execute_result"
    }
   ],
   "source": [
    "anagram(\"I am Lord Voldemort\", \"Tom Marvolo Riddle\")"
   ]
  },
  {
   "cell_type": "code",
   "execution_count": null,
   "id": "fae990a3",
   "metadata": {},
   "outputs": [],
   "source": []
  }
 ],
 "metadata": {
  "kernelspec": {
   "display_name": "Python 3 (ipykernel)",
   "language": "python",
   "name": "python3"
  },
  "language_info": {
   "codemirror_mode": {
    "name": "ipython",
    "version": 3
   },
   "file_extension": ".py",
   "mimetype": "text/x-python",
   "name": "python",
   "nbconvert_exporter": "python",
   "pygments_lexer": "ipython3",
   "version": "3.10.6"
  }
 },
 "nbformat": 4,
 "nbformat_minor": 5
}
