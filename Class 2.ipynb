{
 "cells": [
  {
   "cell_type": "code",
   "execution_count": 19,
   "id": "f8c921fa",
   "metadata": {},
   "outputs": [],
   "source": [
    "# Introductory implementation of a stack:\n",
    "# This implementation uses \"built-in\" data structures and methods to achieve its goal.\n",
    "\n",
    "class Stack:\n",
    "    def __init__(self):\n",
    "        self.items = []\n",
    "        # essential\n",
    "        def push(self, item):\n",
    "            self.items.append(item)\n",
    "        \n",
    "        def pop(self):\n",
    "            return self.items.pop()\n",
    "        \n",
    "        # nice to have\n",
    "        def is_empty(self):\n",
    "            return self.items == []\n",
    "        \n",
    "        def peek(self):\n",
    "            return self.items[len(self.items)-1]\n",
    "        \n",
    "        def size(self):\n",
    "            return len(self.items)\n"
   ]
  },
  {
   "cell_type": "markdown",
   "id": "0b637577",
   "metadata": {},
   "source": [
    "# Problem 2 \n",
    "### Invert a string using our stack class.\n",
    "\n",
    "Using the stack class above, create a function called \"reverse_str\" that takes a string as a parameter and returns it in inverted order.\n",
    "\n",
    "```\n",
    "Examples:\n",
    "reverse_str(\"Rafael\") == \"leafaR\"\n",
    "reverse_str(\"cars\") == \"srac\"\n",
    "reverse_str(\"house\") == \"esuoh\"\n",
    "```"
   ]
  },
  {
   "cell_type": "code",
   "execution_count": 23,
   "id": "87af4c98",
   "metadata": {},
   "outputs": [],
   "source": [
    "# create a function reverse_str: parameter (word)\n",
    "# reverse_wrd = \"\"\n",
    "# for each letter in word:\n",
    "# push letter to stack\n",
    "# for each letter in stack:\n",
    "# print (stack.pop())\n",
    "\n"
   ]
  },
  {
   "cell_type": "code",
   "execution_count": 38,
   "id": "dcf6693b",
   "metadata": {},
   "outputs": [],
   "source": [
    "def reverse_str(mystring):\n",
    "    stack = Stack()\n",
    "    for letter in mystring:\n",
    "        stack.push(letter)\n",
    "        \n",
    "    out_str = \"\"\n",
    "    while not stack.is_empty():\n",
    "        out_str = out_str + stack.pop()\n",
    "    return out_str"
   ]
  },
  {
   "cell_type": "code",
   "execution_count": 39,
   "id": "f08f1fe8",
   "metadata": {},
   "outputs": [
    {
     "data": {
      "text/plain": [
       "'kraM'"
      ]
     },
     "execution_count": 39,
     "metadata": {},
     "output_type": "execute_result"
    }
   ],
   "source": [
    "reverse_str(\"Mark\")"
   ]
  },
  {
   "cell_type": "code",
   "execution_count": 26,
   "id": "39cd04e3",
   "metadata": {},
   "outputs": [],
   "source": [
    "# Introductory implementation of a queue:\n",
    "# This implementation uses \"built-in\" data structures and methods to achieve its goal.\n",
    "\n",
    "class Queue:\n",
    "    def __init__(self):\n",
    "        self.items = []\n",
    "        \n",
    "    def enqueue(self, item):\n",
    "        self.items.insert(0, item)\n",
    "            \n",
    "    def dequeue(self):\n",
    "        return self.items.pop()\n",
    "    \n",
    "    \n",
    "    def is_empty(self):\n",
    "        return self.items == []\n",
    "    \n",
    "    def size(self):\n",
    "        return len(self.items)"
   ]
  },
  {
   "cell_type": "code",
   "execution_count": 27,
   "id": "aefcf945",
   "metadata": {},
   "outputs": [
    {
     "name": "stdout",
     "output_type": "stream",
     "text": [
      "5\n"
     ]
    }
   ],
   "source": [
    "# example of pass by value\n",
    "\n",
    "x = 5\n",
    "y = x\n",
    "\n",
    "x = x + 1\n",
    "\n",
    "print(y)"
   ]
  },
  {
   "cell_type": "code",
   "execution_count": 28,
   "id": "36d4958b",
   "metadata": {},
   "outputs": [
    {
     "name": "stdout",
     "output_type": "stream",
     "text": [
      "[1, 2, 3, 4, 5, 6]\n"
     ]
    }
   ],
   "source": [
    "# example of pass by reference\n",
    "\n",
    "x = [1, 2, 3, 4, 5]\n",
    "\n",
    "y = x\n",
    "\n",
    "x.append(6)\n",
    "\n",
    "print(y)"
   ]
  },
  {
   "cell_type": "code",
   "execution_count": 31,
   "id": "605aac08",
   "metadata": {},
   "outputs": [],
   "source": [
    "# Implementation of a stack class from scratch\n",
    "\n",
    "class Node:\n",
    "    def __init__(self, data):\n",
    "        self.data = data\n",
    "        self.above = None\n"
   ]
  },
  {
   "cell_type": "code",
   "execution_count": 34,
   "id": "d39512d1",
   "metadata": {},
   "outputs": [
    {
     "name": "stdout",
     "output_type": "stream",
     "text": [
      "1\n",
      "2\n",
      "3\n"
     ]
    }
   ],
   "source": [
    "x = [1, 2, 3]\n",
    "\n",
    "base = Node(x[0])\n",
    "new_node = Node(x[1])\n",
    "base.above = new_node\n",
    "new_node_one = Node(x[2])\n",
    "new_node.above = new_node_one\n",
    "\n",
    "current = base\n",
    "while current:                # this is the same as \"while current != None\"\n",
    "    print(current.data)\n",
    "    current = current.above"
   ]
  },
  {
   "cell_type": "code",
   "execution_count": 46,
   "id": "c65cd032",
   "metadata": {},
   "outputs": [],
   "source": [
    "class Stack:\n",
    "    def __init__(self):\n",
    "        self.base = None\n",
    "        \n",
    "    def push(self, item):\n",
    "        if not self.base:\n",
    "            self.base = Node(item)\n",
    "        else:\n",
    "            current = self.base\n",
    "            while current.above:\n",
    "                current = current.above\n",
    "            current.above = Node(item)\n",
    "            \n",
    "    def pop(self):\n",
    "        if self.base:\n",
    "            prev = None\n",
    "            current = self.base\n",
    "            while current.above:\n",
    "                prev = current\n",
    "                current = current.above\n",
    "            if not prev:\n",
    "                self.base = None\n",
    "                return current.data\n",
    "            prev.above = None\n",
    "            return current.data\n",
    "        raise IndexError(\"pop from empty stack\")\n",
    "        \n",
    "    def is_empty(self):\n",
    "        return self.base == None\n",
    "    \n",
    "    def peek(self):\n",
    "        current = self.base\n",
    "        while current:\n",
    "            current = current.above\n",
    "        if not current:\n",
    "            raise IndexError(\"Empty stack\")\n",
    "        return current.data\n",
    "    \n",
    "    def size(self):\n",
    "        counter = 0\n",
    "        current = self.base\n",
    "        while current:\n",
    "            counter += 1\n",
    "            current = current.above\n",
    "        return counter\n",
    "        "
   ]
  },
  {
   "cell_type": "code",
   "execution_count": 40,
   "id": "19d0403e",
   "metadata": {},
   "outputs": [],
   "source": [
    "def reverse_str(mystring):\n",
    "    stack = Stack()\n",
    "    for letter in mystring:\n",
    "        stack.push(letter)\n",
    "        \n",
    "    out_str = \"\"\n",
    "    while not stack.is_empty():\n",
    "        out_str = out_str + stack.pop()\n",
    "    return out_str"
   ]
  },
  {
   "cell_type": "code",
   "execution_count": 41,
   "id": "3feb3aeb",
   "metadata": {},
   "outputs": [
    {
     "data": {
      "text/plain": [
       "'kraM'"
      ]
     },
     "execution_count": 41,
     "metadata": {},
     "output_type": "execute_result"
    }
   ],
   "source": [
    "reverse_str(\"Mark\")"
   ]
  },
  {
   "cell_type": "code",
   "execution_count": null,
   "id": "069a036c",
   "metadata": {},
   "outputs": [],
   "source": [
    "class Queue:\n",
    "    \n",
    "    def __init__(self):\n",
    "        self.first = None\n",
    "        self.last = None\n",
    "        \n",
    "    def enqueue(self, item):\n",
    "        if not self.first: \n",
    "            self.first = Node(item)\n",
    "        else:\n",
    "            first = self.first \n",
    "            if self.last: \n",
    "                last = self.last\n",
    "                new = Node(item)\n",
    "                last.prev = new\n",
    "                self.last = new\n",
    "            else: \n",
    "                new = Node(item)\n",
    "                first.prev = new\n",
    "                self.last = new        \n",
    "                  \n",
    "    def dequeue(self):\n",
    "        if self.first:\n",
    "            current = self.first\n",
    "            if not current.prev:\n",
    "                output = current.data\n",
    "                self.first = None\n",
    "                return output\n",
    "            else:\n",
    "                output = current.data\n",
    "                self.first = current.prev\n",
    "                return output\n",
    "        else:\n",
    "            IndexError(\"Empty Queue\")\n",
    "               \n",
    "    def empty_queue(self):\n",
    "        if not self.first:\n",
    "            return True\n",
    "        else:\n",
    "            return False\n",
    "    \n",
    "    def peek(self):\n",
    "        if self.last:\n",
    "            last = self.last\n",
    "            return last.data\n",
    "        elif self.first:\n",
    "            first = self.first\n",
    "            return first.data\n",
    "        else:\n",
    "            IndexError(\"Empty Queue\")\n",
    "    \n",
    "    def size(self):\n",
    "        count = 0\n",
    "        if not self.first:\n",
    "            return count\n",
    "        else:\n",
    "            current = self.first\n",
    "            while current:\n",
    "                count += 1\n",
    "                current = current.prev\n",
    "            return count        \n",
    "    \n",
    "    def __str__(self):\n",
    "        out_str = \"[\"\n",
    "        if self.first:\n",
    "            current = self.first\n",
    "            out_str += '%s' % current.data\n",
    "            while current:\n",
    "                current = current.prev\n",
    "                if current:\n",
    "                    out_str += \", %s\" % current.data\n",
    "        out_str += \"]\"\n",
    "        return out_str"
   ]
  },
  {
   "cell_type": "code",
   "execution_count": null,
   "id": "374eac4a",
   "metadata": {},
   "outputs": [],
   "source": []
  }
 ],
 "metadata": {
  "kernelspec": {
   "display_name": "Python 3 (ipykernel)",
   "language": "python",
   "name": "python3"
  },
  "language_info": {
   "codemirror_mode": {
    "name": "ipython",
    "version": 3
   },
   "file_extension": ".py",
   "mimetype": "text/x-python",
   "name": "python",
   "nbconvert_exporter": "python",
   "pygments_lexer": "ipython3",
   "version": "3.10.6"
  }
 },
 "nbformat": 4,
 "nbformat_minor": 5
}
