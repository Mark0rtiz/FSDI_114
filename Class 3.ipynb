{
 "cells": [
  {
   "cell_type": "code",
   "execution_count": 17,
   "id": "6d775b52",
   "metadata": {},
   "outputs": [],
   "source": [
    "class Node:\n",
    "    def __init__(self, data):\n",
    "        self.data = data\n",
    "        self.prev = None\n",
    "        \n",
    "class Queue:\n",
    "    def __init__(self):\n",
    "        self.front = None\n",
    "        \n",
    "    def enqueue(self, item):\n",
    "        if not self.front:        # if there is no Node instance at self.rear\n",
    "            self.front = Node(item)\n",
    "        else:\n",
    "            current = self.front\n",
    "            while current.prev:\n",
    "                current = current.prev\n",
    "            current.prev = Node(item)\n",
    "\n",
    "    def dequeue(self):\n",
    "        if self.front:\n",
    "            current = self.front\n",
    "            node_before = self.front.prev\n",
    "            if not node_before:\n",
    "                self.front = None\n",
    "                return current.data\n",
    "            else:\n",
    "                self.front = node_before\n",
    "                return current.data\n",
    "        raise IndexError(\"Queue is empty\")\n",
    "\n",
    "    def __str__(self):\n",
    "        out_str = \"[\"\n",
    "        if self.front:\n",
    "            current = self.front\n",
    "            out_str += \"%s\" % current.data\n",
    "            while current:\n",
    "                current = current.prev\n",
    "                if current:\n",
    "                    out_str += \", %s\" % current.data\n",
    "        out_str += \"]\"\n",
    "        return out_str\n",
    "    \n",
    "    def is_empty(self):\n",
    "        pass\n",
    "        \n",
    "    def peek(self):\n",
    "        pass\n",
    "        \n",
    "    def size(self):\n",
    "        pass\n",
    "            "
   ]
  },
  {
   "cell_type": "code",
   "execution_count": 16,
   "id": "a6698965",
   "metadata": {},
   "outputs": [
    {
     "name": "stdout",
     "output_type": "stream",
     "text": [
      "Current queue\n",
      "[1]\n",
      "Current queue\n",
      "[1, 2]\n",
      "Current queue\n",
      "[1, 2, 3]\n",
      "Current queue\n",
      "[1, 2, 3, 4]\n",
      "Current queue\n",
      "[1, 2, 3, 4, 5]\n",
      "Now we will dequeue\n",
      "[2, 3, 4, 5]\n",
      "[3, 4, 5]\n",
      "[4, 5]\n",
      "[5]\n",
      "[]\n"
     ]
    }
   ],
   "source": [
    "def queue_helper(mylist=[1, 2, 3, 4, 5]):\n",
    "    queue = Queue()\n",
    "    for value in mylist:\n",
    "        queue.enqueue(value)\n",
    "        print(\"Current queue\")\n",
    "        print(queue)\n",
    "    print (\"Now we will dequeue\")\n",
    "    while queue.front:\n",
    "        try:\n",
    "            out = queue.dequeue()\n",
    "        except IndexError as idxerr:\n",
    "            print(idxerr)\n",
    "        print(queue)\n",
    "\n",
    "queue_helper()\n",
    "    "
   ]
  },
  {
   "cell_type": "markdown",
   "id": "0a2d1edb",
   "metadata": {},
   "source": [
    "# Linked Lists\n",
    "\n",
    "### We're going to cover:\n",
    "\n",
    "1. Singly linked lists\n",
    "2. Doubly linked lists"
   ]
  },
  {
   "cell_type": "code",
   "execution_count": 18,
   "id": "31dcbbcd",
   "metadata": {},
   "outputs": [
    {
     "name": "stdout",
     "output_type": "stream",
     "text": [
      "[1, 2, 3, 4, 5]\n"
     ]
    }
   ],
   "source": [
    "mylist = [1, 2, 3, 4, 5]\n",
    "\n",
    "print(mylist)"
   ]
  },
  {
   "cell_type": "markdown",
   "id": "3426bb87",
   "metadata": {},
   "source": [
    "# mini challenge\n",
    "\n",
    "## linked list implementation\n",
    "\n",
    "create a Node class with at least two attributes (data & next). Create a LinkedList class that keeps track of at least a head Node.\n",
    "\n",
    "Then add the following methods:\n",
    "\n",
    "1. Append\n",
    "2. `__str__`"
   ]
  },
  {
   "cell_type": "code",
   "execution_count": 19,
   "id": "91a84619",
   "metadata": {},
   "outputs": [],
   "source": [
    "class Node:\n",
    "    def __init__(self, data, next_node=None, prev_node=None):\n",
    "        self.data = data\n",
    "        self.next = next_node\n",
    "        self.prev = prev_node\n",
    "        \n",
    "    def __str__(self):\n",
    "        return str(self.value)\n",
    "        \n",
    "class LinkedList:\n",
    "    def __init__(self, data=None):\n",
    "        self.head = None\n",
    "        self.tail = None\n",
    "        \n",
    "        if data is not None:\n",
    "            self.append_multiple_nodes(data)\n",
    "    \n",
    "    def __str__(self):\n",
    "        return ' -> '.join([str(node) for node in self])\n",
    "    \n",
    "    def __len__(self):\n",
    "        count = 0\n",
    "        node = self.head\n",
    "        while node:\n",
    "            count += 1\n",
    "            node = node.next\n",
    "        return count\n",
    "    \n",
    "    def __iter__(self):\n",
    "        current = self.head\n",
    "        while current:\n",
    "            yield current\n",
    "            current = current.next\n",
    "        \n",
    "    def append(self, data):\n",
    "        if self.head is None:\n",
    "            self.tail = self.head = Node(data)\n",
    "        else:\n",
    "            self.tail.next = Node(data)\n",
    "            self.tail = self.tail.next\n",
    "        return self.tail\n",
    "    \n",
    "    def append_multiple_nodes(self, data):\n",
    "        for each in data:\n",
    "            self.append(data)\n",
    "            \n",
    "    def append_head(self, value):\n",
    "        if self.head is None:\n",
    "            self.tail = self.head = Node(value)\n",
    "        else:\n",
    "            self.head = Node(value, self.head)\n",
    "        return self.head\n",
    "        "
   ]
  },
  {
   "cell_type": "code",
   "execution_count": null,
   "id": "4ea19772",
   "metadata": {},
   "outputs": [],
   "source": []
  }
 ],
 "metadata": {
  "kernelspec": {
   "display_name": "Python 3 (ipykernel)",
   "language": "python",
   "name": "python3"
  },
  "language_info": {
   "codemirror_mode": {
    "name": "ipython",
    "version": 3
   },
   "file_extension": ".py",
   "mimetype": "text/x-python",
   "name": "python",
   "nbconvert_exporter": "python",
   "pygments_lexer": "ipython3",
   "version": "3.10.6"
  }
 },
 "nbformat": 4,
 "nbformat_minor": 5
}
