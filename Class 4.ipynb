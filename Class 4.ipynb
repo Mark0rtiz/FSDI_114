{
 "cells": [
  {
   "cell_type": "code",
   "execution_count": 2,
   "id": "396ba8cb",
   "metadata": {},
   "outputs": [],
   "source": [
    "class Node:\n",
    "    def __init__(self, data):\n",
    "        self.data = data\n",
    "        self.next = None\n",
    "        \n",
    "class SinglyLinkedList:\n",
    "    def __init__(self):\n",
    "        self.head = None\n",
    "        \n",
    "    def append (self, value):\n",
    "        if not self.head:\n",
    "            self.head = Node(value)\n",
    "        else:\n",
    "            current = self.head\n",
    "            while current.next:\n",
    "                current = current.next\n",
    "            current.next = Node(value)\n",
    "    \n",
    "    def insert(self, index, value):\n",
    "        if not self.head:\n",
    "            self.head = Node(value)\n",
    "            \n",
    "        elif index <=0:\n",
    "            new_node = Node(value)\n",
    "            new_node.next = self.head\n",
    "            self.head = new_node\n",
    "            \n",
    "        else:\n",
    "            prev = None\n",
    "            current = self.head\n",
    "            counter = 0\n",
    "            while current.next and counter != index:\n",
    "                prev = current\n",
    "                current = current.next\n",
    "                counter += 1\n",
    "            if counter != index:\n",
    "                current.next = Node(value)\n",
    "            else:\n",
    "                new_node = Node(value)\n",
    "                prev.next = new_node\n",
    "                new_mode.next = current\n",
    "                \n",
    "    def add_all(self):\n",
    "        total = 0\n",
    "        current = self.head\n",
    "        while current:\n",
    "            total += current.data\n",
    "            current = current.next\n",
    "        return total\n",
    "                    \n",
    "\n"
   ]
  },
  {
   "cell_type": "code",
   "execution_count": 5,
   "id": "383a8cb9",
   "metadata": {},
   "outputs": [
    {
     "name": "stdout",
     "output_type": "stream",
     "text": [
      "5050\n"
     ]
    }
   ],
   "source": [
    "sll = SinglyLinkedList()\n",
    "\n",
    "for number in range(101):\n",
    "    sll.append(number)\n",
    "    \n",
    "print(sll.add_all())"
   ]
  },
  {
   "cell_type": "code",
   "execution_count": 8,
   "id": "d56abb1d",
   "metadata": {},
   "outputs": [],
   "source": [
    "class DNode:\n",
    "    def __init__(self, data):\n",
    "        self.data = data\n",
    "        self.prev = None\n",
    "        self.next = None\n",
    "        \n",
    "class DoublyLinkedList:\n",
    "    def __init__(self):\n",
    "        self.head = None\n",
    "        \n",
    "    def append(self, value):\n",
    "        if not self.head:\n",
    "            self.head = DNode(value)\n",
    "        else:\n",
    "            current = self.head\n",
    "            while current.next:\n",
    "                current = current.next\n",
    "            new_node = DNode(value)\n",
    "            current.next = new_node\n",
    "            new_node.prev = current\n",
    "            \n",
    "    def remove(self, value):\n",
    "        found = False\n",
    "        if self.head:\n",
    "            current = self.head\n",
    "            while current and current.data != value:\n",
    "                current = current.next\n",
    "            if current == self.head:\n",
    "                self.head = None\n",
    "            if current.data == value:\n",
    "                found = True\n",
    "                prev = current.prev\n",
    "                next_node = current.next\n",
    "                prev.next = next_node\n",
    "                next_node.prev = prev\n",
    "        if not found:        \n",
    "            raise ValueError(\"Value not found\")\n",
    "                "
   ]
  },
  {
   "cell_type": "code",
   "execution_count": null,
   "id": "9c1751d4",
   "metadata": {},
   "outputs": [],
   "source": []
  }
 ],
 "metadata": {
  "kernelspec": {
   "display_name": "Python 3 (ipykernel)",
   "language": "python",
   "name": "python3"
  },
  "language_info": {
   "codemirror_mode": {
    "name": "ipython",
    "version": 3
   },
   "file_extension": ".py",
   "mimetype": "text/x-python",
   "name": "python",
   "nbconvert_exporter": "python",
   "pygments_lexer": "ipython3",
   "version": "3.10.6"
  }
 },
 "nbformat": 4,
 "nbformat_minor": 5
}
